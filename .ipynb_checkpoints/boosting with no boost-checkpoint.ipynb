{
 "cells": [
  {
   "cell_type": "markdown",
   "id": "ac7f2716",
   "metadata": {},
   "source": [
    "# Gradient Boost with no Boost models"
   ]
  },
  {
   "cell_type": "markdown",
   "id": "42fad1a6",
   "metadata": {},
   "source": [
    "## import libs"
   ]
  },
  {
   "cell_type": "code",
   "execution_count": 1,
   "id": "2621d124",
   "metadata": {},
   "outputs": [],
   "source": [
    "import pandas as pd\n",
    "import numpy as np\n",
    "import seaborn as sns\n",
    "\n",
    "from sklearn.datasets import make_regression\n",
    "from sklearn.metrics import mean_absolute_error, mean_squared_error\n",
    "from sklearn.tree import DecisionTreeRegressor\n",
    "\n",
    "RANDOM_STATE=62"
   ]
  },
  {
   "cell_type": "code",
   "execution_count": 2,
   "id": "aad5e87c",
   "metadata": {},
   "outputs": [],
   "source": [
    "import warnings\n",
    "warnings.filterwarnings(\"ignore\")"
   ]
  },
  {
   "cell_type": "markdown",
   "id": "022721de",
   "metadata": {},
   "source": [
    "## Function making DataFrame"
   ]
  },
  {
   "cell_type": "code",
   "execution_count": 3,
   "id": "5ceccdd8",
   "metadata": {},
   "outputs": [],
   "source": [
    "def make_df(n_samples=10, n_features=5, random_state=RANDOM_STATE):\n",
    "    X, y = make_regression(n_samples=n_samples, n_features=n_features, random_state=random_state)\n",
    "    df = pd.DataFrame(X)\n",
    "    df['y_true'] = y\n",
    "    return df"
   ]
  },
  {
   "cell_type": "markdown",
   "id": "4622c98e",
   "metadata": {},
   "source": [
    "## Boost function"
   ]
  },
  {
   "cell_type": "code",
   "execution_count": 4,
   "id": "1b6e72cc",
   "metadata": {},
   "outputs": [],
   "source": [
    "def boost(df, n_steps=10, learning_rate=.1, max_depth=1, plot=True):\n",
    "    \n",
    "    #saving trees\n",
    "    trees = []\n",
    "    \n",
    "    #collect rmse scores for plot\n",
    "    rmse_list = []\n",
    "    \n",
    "    #making dummy-prediction, each next tree will improve (boost) it\n",
    "    df['y_pred'] = df['y_true'].mean()\n",
    "    \n",
    "    for i in range(n_steps):\n",
    "        \n",
    "        #counting residual\n",
    "        df['residual'] = df['y_true'] - df['y_pred']\n",
    "        model = DecisionTreeRegressor(random_state=RANDOM_STATE, max_depth=max_depth)\n",
    "        model.fit(df.drop(['y_pred', 'y_true', 'residual'], axis=1), df['residual'])\n",
    "        df['y_pred'] += learning_rate*model.predict(df.drop(['y_pred', 'y_true', 'residual'], axis=1))\n",
    "        trees.append(model)\n",
    "        rmse = mean_squared_error(df['y_true'], df['y_pred'])\n",
    "        rmse_list.append(rmse)\n",
    "        print(f' RMSE on step {i}: {rmse}')\n",
    "        \n",
    "    if plot==True:\n",
    "        rmse_df = pd.DataFrame(data=rmse_list, columns=['RMSE'])\n",
    "        return rmse_df.plot(title='RMSE decreasing step by step',\n",
    "             style='o-',\n",
    "             grid=True,\n",
    "             figsize=(10,7));"
   ]
  },
  {
   "cell_type": "markdown",
   "id": "9e7ebf21",
   "metadata": {},
   "source": [
    "## Enjoy =)"
   ]
  },
  {
   "cell_type": "code",
   "execution_count": 5,
   "id": "4d6d0afe",
   "metadata": {},
   "outputs": [
    {
     "name": "stdout",
     "output_type": "stream",
     "text": [
      " RMSE on step 0: 40351.93601627757\n",
      " RMSE on step 1: 36666.08566179602\n",
      " RMSE on step 2: 33596.042092298696\n",
      " RMSE on step 3: 30810.85013937547\n",
      " RMSE on step 4: 28167.268579283413\n",
      " RMSE on step 5: 25931.467933279317\n",
      " RMSE on step 6: 23821.331862282223\n",
      " RMSE on step 7: 22135.15620670048\n",
      " RMSE on step 8: 20575.049029079684\n",
      " RMSE on step 9: 19094.645180304575\n",
      " RMSE on step 10: 17728.832575632903\n",
      " RMSE on step 11: 16479.9425237628\n",
      " RMSE on step 12: 15360.655894737725\n",
      " RMSE on step 13: 14343.584284023995\n",
      " RMSE on step 14: 13422.114956105763\n",
      " RMSE on step 15: 12549.825405796506\n",
      " RMSE on step 16: 11794.006385608558\n",
      " RMSE on step 17: 11066.334604431275\n",
      " RMSE on step 18: 10429.841865262953\n",
      " RMSE on step 19: 9848.791433482727\n",
      " RMSE on step 20: 9245.895353060163\n",
      " RMSE on step 21: 8658.396830777827\n",
      " RMSE on step 22: 8118.29812610692\n",
      " RMSE on step 23: 7702.403228836878\n",
      " RMSE on step 24: 7249.046971302638\n",
      " RMSE on step 25: 6865.973780445581\n",
      " RMSE on step 26: 6505.783115495408\n",
      " RMSE on step 27: 6178.525134123438\n",
      " RMSE on step 28: 5879.072693240339\n",
      " RMSE on step 29: 5587.707363063335\n",
      " RMSE on step 30: 5334.244603145389\n",
      " RMSE on step 31: 5090.222147382627\n",
      " RMSE on step 32: 4871.644657233981\n",
      " RMSE on step 33: 4597.266856572307\n",
      " RMSE on step 34: 4385.146273522745\n",
      " RMSE on step 35: 4148.797179445055\n",
      " RMSE on step 36: 3910.015649260198\n",
      " RMSE on step 37: 3749.119047774528\n",
      " RMSE on step 38: 3571.26314555141\n",
      " RMSE on step 39: 3384.4281608404576\n",
      " RMSE on step 40: 3245.7581584880736\n",
      " RMSE on step 41: 3111.254889558879\n",
      " RMSE on step 42: 2974.6791290808405\n",
      " RMSE on step 43: 2856.452098494745\n",
      " RMSE on step 44: 2732.1019301127303\n",
      " RMSE on step 45: 2623.8834329138213\n",
      " RMSE on step 46: 2504.9424957703004\n",
      " RMSE on step 47: 2402.7245650742016\n",
      " RMSE on step 48: 2303.2607163616262\n",
      " RMSE on step 49: 2178.648920207574\n",
      " RMSE on step 50: 2099.592765608687\n",
      " RMSE on step 51: 2016.2516949990425\n",
      " RMSE on step 52: 1936.2057654095092\n",
      " RMSE on step 53: 1857.3453746669277\n",
      " RMSE on step 54: 1792.797065556149\n",
      " RMSE on step 55: 1702.2885915504046\n",
      " RMSE on step 56: 1644.2441295092656\n",
      " RMSE on step 57: 1570.1090538094122\n",
      " RMSE on step 58: 1509.0641622186047\n",
      " RMSE on step 59: 1456.9937865715256\n",
      " RMSE on step 60: 1386.2107972013087\n",
      " RMSE on step 61: 1340.0313215552635\n",
      " RMSE on step 62: 1290.7582819058089\n",
      " RMSE on step 63: 1244.6994070183528\n",
      " RMSE on step 64: 1186.1131640242102\n",
      " RMSE on step 65: 1151.0412485953022\n",
      " RMSE on step 66: 1114.8185000079168\n",
      " RMSE on step 67: 1075.2816159115407\n",
      " RMSE on step 68: 1031.752237188786\n",
      " RMSE on step 69: 1002.3409002006539\n",
      " RMSE on step 70: 966.5604873759713\n",
      " RMSE on step 71: 940.6174844668255\n",
      " RMSE on step 72: 910.520492580236\n",
      " RMSE on step 73: 886.1605514382668\n",
      " RMSE on step 74: 855.9804387818753\n",
      " RMSE on step 75: 832.1153517977542\n",
      " RMSE on step 76: 809.8317044536971\n",
      " RMSE on step 77: 785.3319481237126\n",
      " RMSE on step 78: 764.35473834311\n",
      " RMSE on step 79: 745.3323620517534\n",
      " RMSE on step 80: 715.3735697082813\n",
      " RMSE on step 81: 689.5198491968633\n",
      " RMSE on step 82: 668.8708400108911\n",
      " RMSE on step 83: 647.5002679198882\n",
      " RMSE on step 84: 631.1978031954136\n",
      " RMSE on step 85: 613.3689162280242\n",
      " RMSE on step 86: 590.7315488829194\n",
      " RMSE on step 87: 577.8949883540735\n",
      " RMSE on step 88: 559.8590662869108\n",
      " RMSE on step 89: 547.0176973763552\n",
      " RMSE on step 90: 528.7457406293071\n",
      " RMSE on step 91: 516.5947251216014\n",
      " RMSE on step 92: 505.47603564067555\n",
      " RMSE on step 93: 491.3545550140137\n",
      " RMSE on step 94: 479.09477444588396\n",
      " RMSE on step 95: 466.4508215044005\n",
      " RMSE on step 96: 457.2747322223815\n",
      " RMSE on step 97: 446.4738097519021\n",
      " RMSE on step 98: 426.73926401180455\n",
      " RMSE on step 99: 412.31776102691015\n"
     ]
    },
    {
     "data": {
      "text/plain": [
       "<AxesSubplot:title={'center':'RMSE decreasing step by step'}>"
      ]
     },
     "execution_count": 5,
     "metadata": {},
     "output_type": "execute_result"
    },
    {
     "data": {
      "image/png": "[encoded data removed]",
      "text/plain": [
       "<Figure size 720x504 with 1 Axes>"
      ]
     },
     "metadata": {
      "needs_background": "light"
     },
     "output_type": "display_data"
    }
   ],
   "source": [
    "#you can choose different parameters and watch the effect on the plot\n",
    "boost(df=make_df(n_samples=100, n_features=10), n_steps=100, learning_rate=.1, max_depth=2, plot=True)"
   ]
  },
  {
   "cell_type": "code",
   "execution_count": null,
   "id": "6ff12a03",
   "metadata": {},
   "outputs": [],
   "source": []
  }
 ],
 "metadata": {
  "kernelspec": {
   "display_name": "Python 3 (ipykernel)",
   "language": "python",
   "name": "python3"
  },
  "language_info": {
   "codemirror_mode": {
    "name": "ipython",
    "version": 3
   },
   "file_extension": ".py",
   "mimetype": "text/x-python",
   "name": "python",
   "nbconvert_exporter": "python",
   "pygments_lexer": "ipython3",
   "version": "3.9.12"
  },
  "toc": {
   "base_numbering": 1,
   "nav_menu": {},
   "number_sections": true,
   "sideBar": true,
   "skip_h1_title": false,
   "title_cell": "Table of Contents",
   "title_sidebar": "Contents",
   "toc_cell": false,
   "toc_position": {},
   "toc_section_display": true,
   "toc_window_display": true
  }
 },
 "nbformat": 4,
 "nbformat_minor": 5
}
