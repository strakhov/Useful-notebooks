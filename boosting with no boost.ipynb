{
 "cells": [
  {
   "cell_type": "markdown",
   "id": "ac7f2716",
   "metadata": {},
   "source": [
    "# Gradient Boost with no Boost models"
   ]
  },
  {
   "cell_type": "markdown",
   "id": "42fad1a6",
   "metadata": {},
   "source": [
    "## import libs"
   ]
  },
  {
   "cell_type": "code",
   "execution_count": 1,
   "id": "2621d124",
   "metadata": {},
   "outputs": [],
   "source": [
    "import pandas as pd\n",
    "import numpy as np\n",
    "import seaborn as sns\n",
    "\n",
    "from sklearn.datasets import make_regression\n",
    "from sklearn.metrics import mean_absolute_error, mean_squared_error\n",
    "from sklearn.tree import DecisionTreeRegressor\n",
    "\n",
    "RANDOM_STATE=62"
   ]
  },
  {
   "cell_type": "code",
   "execution_count": 2,
   "id": "aad5e87c",
   "metadata": {},
   "outputs": [],
   "source": [
    "import warnings\n",
    "warnings.filterwarnings(\"ignore\")"
   ]
  },
  {
   "cell_type": "markdown",
   "id": "022721de",
   "metadata": {},
   "source": [
    "## Function making DataFrame"
   ]
  },
  {
   "cell_type": "code",
   "execution_count": 3,
   "id": "5ceccdd8",
   "metadata": {},
   "outputs": [],
   "source": [
    "def make_df(n_samples=10, n_features=5, random_state=42):\n",
    "    X, y = make_regression(n_samples=n_samples, n_features=n_features, random_state=random_state)\n",
    "    df = pd.DataFrame(X)\n",
    "    df['y_true'] = y\n",
    "    return df"
   ]
  },
  {
   "cell_type": "markdown",
   "id": "4622c98e",
   "metadata": {},
   "source": [
    "## Boost function"
   ]
  },
  {
   "cell_type": "code",
   "execution_count": 14,
   "id": "1b6e72cc",
   "metadata": {},
   "outputs": [],
   "source": [
    "def boost(df, n_steps=10, learning_rate=.1, max_depth=1, plot=True):\n",
    "    \n",
    "    #saving trees\n",
    "    trees = []\n",
    "    \n",
    "    #collect rmse scores for plot\n",
    "    rmse_list = []\n",
    "    \n",
    "    #making dummy-prediction, each next tree will improve (boost) it\n",
    "    df['y_pred'] = df['y_true'].mean()\n",
    "    \n",
    "    for i in range(n_steps):\n",
    "        \n",
    "        #counting residual\n",
    "        df['residual'] = df['y_true'] - df['y_pred']\n",
    "        model = DecisionTreeRegressor(random_state=RANDOM_STATE, max_depth=max_depth)\n",
    "        model.fit(df.drop(['y_pred', 'y_true', 'residual'], axis=1), df['residual'])\n",
    "        df['y_pred'] += learning_rate*model.predict(df.drop(['y_pred', 'y_true', 'residual'], axis=1))\n",
    "        trees.append(model)\n",
    "        rmse = mean_squared_error(df['y_true'], df['y_pred'])\n",
    "        rmse_list.append(rmse)\n",
    "        print(f' RMSE on step {i}: {rmse}')\n",
    "        \n",
    "    if plot==True:\n",
    "        rmse_df = pd.DataFrame(data=rmse_list, columns=['RMSE'])\n",
    "        return rmse_df.plot(title='RMSE decreasing step by step',\n",
    "             style='o-',\n",
    "             grid=True,\n",
    "             figsize=(10,7));"
   ]
  },
  {
   "cell_type": "markdown",
   "id": "9e7ebf21",
   "metadata": {},
   "source": [
    "## Enjoy =)"
   ]
  },
  {
   "cell_type": "code",
   "execution_count": 23,
   "id": "4d6d0afe",
   "metadata": {},
   "outputs": [
    {
     "name": "stdout",
     "output_type": "stream",
     "text": [
      " RMSE on step 0: 32690.866139338086\n",
      " RMSE on step 1: 29587.752701068708\n",
      " RMSE on step 2: 27064.71157213942\n",
      " RMSE on step 3: 24908.243819925352\n",
      " RMSE on step 4: 22922.227963205372\n",
      " RMSE on step 5: 21013.753300666056\n",
      " RMSE on step 6: 19477.930805255528\n",
      " RMSE on step 7: 17973.763564540634\n",
      " RMSE on step 8: 16746.555783567255\n",
      " RMSE on step 9: 15598.786881054604\n",
      " RMSE on step 10: 14462.50999440563\n",
      " RMSE on step 11: 13376.01796180802\n",
      " RMSE on step 12: 12380.249778939236\n",
      " RMSE on step 13: 11613.870628300272\n",
      " RMSE on step 14: 10919.381412583612\n",
      " RMSE on step 15: 10178.652296032526\n",
      " RMSE on step 16: 9520.522705396608\n",
      " RMSE on step 17: 8856.289096611457\n",
      " RMSE on step 18: 8254.428601975937\n",
      " RMSE on step 19: 7710.772186129822\n",
      " RMSE on step 20: 7237.95864266516\n",
      " RMSE on step 21: 6766.990879247818\n",
      " RMSE on step 22: 6337.286668320973\n",
      " RMSE on step 23: 5917.254039623177\n",
      " RMSE on step 24: 5514.151088352756\n",
      " RMSE on step 25: 5195.891536770129\n",
      " RMSE on step 26: 4836.5994812541185\n",
      " RMSE on step 27: 4537.809338030488\n",
      " RMSE on step 28: 4261.615096865114\n",
      " RMSE on step 29: 4011.956229832406\n",
      " RMSE on step 30: 3757.566857137632\n",
      " RMSE on step 31: 3548.8458702553403\n",
      " RMSE on step 32: 3376.86357470576\n",
      " RMSE on step 33: 3186.1841516138584\n",
      " RMSE on step 34: 3008.606152071472\n",
      " RMSE on step 35: 2837.629426379994\n",
      " RMSE on step 36: 2677.4590357715992\n",
      " RMSE on step 37: 2544.6138578113487\n",
      " RMSE on step 38: 2408.0836474543694\n",
      " RMSE on step 39: 2263.984632347003\n",
      " RMSE on step 40: 2137.1232501422414\n",
      " RMSE on step 41: 2028.7337812986125\n",
      " RMSE on step 42: 1882.3578140836023\n",
      " RMSE on step 43: 1768.1710706543747\n",
      " RMSE on step 44: 1679.100207055153\n",
      " RMSE on step 45: 1586.5291586025667\n",
      " RMSE on step 46: 1510.7313742876713\n",
      " RMSE on step 47: 1434.8090431473195\n",
      " RMSE on step 48: 1354.2611641607748\n",
      " RMSE on step 49: 1283.993100358838\n",
      " RMSE on step 50: 1220.888919365495\n",
      " RMSE on step 51: 1157.190222275708\n",
      " RMSE on step 52: 1102.2521888680576\n",
      " RMSE on step 53: 1050.9406703402722\n",
      " RMSE on step 54: 1005.882815942029\n",
      " RMSE on step 55: 961.8229407193803\n",
      " RMSE on step 56: 920.4790353782587\n",
      " RMSE on step 57: 878.9901464911828\n",
      " RMSE on step 58: 824.6725615435206\n",
      " RMSE on step 59: 785.7875846829609\n",
      " RMSE on step 60: 751.4060138093608\n",
      " RMSE on step 61: 718.4624522497979\n",
      " RMSE on step 62: 685.3883700426651\n",
      " RMSE on step 63: 652.980470248929\n",
      " RMSE on step 64: 617.8730849770806\n",
      " RMSE on step 65: 591.1611270927856\n",
      " RMSE on step 66: 566.7907952337234\n",
      " RMSE on step 67: 539.6170730075987\n",
      " RMSE on step 68: 514.4263765831683\n",
      " RMSE on step 69: 496.0038710684454\n",
      " RMSE on step 70: 473.95051915732154\n",
      " RMSE on step 71: 457.2520510230923\n",
      " RMSE on step 72: 444.8962677587159\n",
      " RMSE on step 73: 431.3350939214194\n",
      " RMSE on step 74: 419.40657744791423\n",
      " RMSE on step 75: 402.5310751949007\n",
      " RMSE on step 76: 386.83963786777866\n",
      " RMSE on step 77: 370.93212029627074\n",
      " RMSE on step 78: 356.93137625552185\n",
      " RMSE on step 79: 348.4043090371473\n",
      " RMSE on step 80: 335.6799351301819\n",
      " RMSE on step 81: 326.48044970256325\n",
      " RMSE on step 82: 314.30639645231497\n",
      " RMSE on step 83: 306.390433433021\n",
      " RMSE on step 84: 297.8533953402115\n",
      " RMSE on step 85: 287.0429014982082\n",
      " RMSE on step 86: 279.6723021629558\n",
      " RMSE on step 87: 268.44044574796817\n",
      " RMSE on step 88: 258.0959979273386\n",
      " RMSE on step 89: 249.60419979627466\n",
      " RMSE on step 90: 241.22473707426565\n",
      " RMSE on step 91: 234.0960313082629\n",
      " RMSE on step 92: 226.38171369880885\n",
      " RMSE on step 93: 218.7369863683631\n",
      " RMSE on step 94: 213.23485589670727\n",
      " RMSE on step 95: 206.6194473772063\n",
      " RMSE on step 96: 200.3052437922588\n",
      " RMSE on step 97: 195.88629665686966\n",
      " RMSE on step 98: 191.19116894331512\n",
      " RMSE on step 99: 185.4747053671573\n"
     ]
    },
    {
     "data": {
      "text/plain": [
       "<AxesSubplot:title={'center':'RMSE decreasing step by step'}>"
      ]
     },
     "execution_count": 23,
     "metadata": {},
     "output_type": "execute_result"
    },
    {
     "data": {
      "image/png": "[encoded data removed]",
      "text/plain": [
       "<Figure size 720x504 with 1 Axes>"
      ]
     },
     "metadata": {
      "needs_background": "light"
     },
     "output_type": "display_data"
    }
   ],
   "source": [
    "boost(df=make_df(n_samples=100, n_features=10), n_steps=100, learning_rate=.1, max_depth=2, plot=True)"
   ]
  },
  {
   "cell_type": "code",
   "execution_count": null,
   "id": "6ff12a03",
   "metadata": {},
   "outputs": [],
   "source": []
  }
 ],
 "metadata": {
  "kernelspec": {
   "display_name": "Python 3 (ipykernel)",
   "language": "python",
   "name": "python3"
  },
  "language_info": {
   "codemirror_mode": {
    "name": "ipython",
    "version": 3
   },
   "file_extension": ".py",
   "mimetype": "text/x-python",
   "name": "python",
   "nbconvert_exporter": "python",
   "pygments_lexer": "ipython3",
   "version": "3.9.12"
  },
  "toc": {
   "base_numbering": 1,
   "nav_menu": {},
   "number_sections": true,
   "sideBar": true,
   "skip_h1_title": false,
   "title_cell": "Table of Contents",
   "title_sidebar": "Contents",
   "toc_cell": false,
   "toc_position": {},
   "toc_section_display": true,
   "toc_window_display": true
  }
 },
 "nbformat": 4,
 "nbformat_minor": 5
}
