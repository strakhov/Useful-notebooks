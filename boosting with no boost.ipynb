{
 "cells": [
  {
   "cell_type": "markdown",
   "id": "ac7f2716",
   "metadata": {},
   "source": [
    "# Gradient Boost with no Boost models"
   ]
  },
  {
   "cell_type": "markdown",
   "id": "fbddec72",
   "metadata": {},
   "source": [
    "For me as a beginner data scientist it was hard to understand how the gradient boost works. Also I heard that it is often asked in job interview. So I decided to repeat this algorithm without using gradient boost libraries. Looking forward it was useful experience for understanding of boost algorithm.\n",
    "\n",
    "You can change functions paramters and watch the effect on the model quality."
   ]
  },
  {
   "cell_type": "markdown",
   "id": "42fad1a6",
   "metadata": {},
   "source": [
    "## import libs"
   ]
  },
  {
   "cell_type": "code",
   "execution_count": 1,
   "id": "2621d124",
   "metadata": {},
   "outputs": [],
   "source": [
    "import pandas as pd\n",
    "import numpy as np\n",
    "import seaborn as sns\n",
    "\n",
    "from sklearn.datasets import make_regression\n",
    "from sklearn.model_selection import train_test_split\n",
    "from sklearn.metrics import mean_absolute_error, mean_squared_error\n",
    "from sklearn.tree import DecisionTreeRegressor\n",
    "\n",
    "RANDOM_STATE=62\n",
    "LEARNING_RATE = .1"
   ]
  },
  {
   "cell_type": "code",
   "execution_count": 2,
   "id": "aad5e87c",
   "metadata": {},
   "outputs": [],
   "source": [
    "import warnings\n",
    "warnings.filterwarnings(\"ignore\")"
   ]
  },
  {
   "cell_type": "markdown",
   "id": "022721de",
   "metadata": {},
   "source": [
    "## Function making DataFrame"
   ]
  },
  {
   "cell_type": "code",
   "execution_count": 3,
   "id": "5ceccdd8",
   "metadata": {},
   "outputs": [],
   "source": [
    "def make_df(n_samples=10, n_features=5, random_state=RANDOM_STATE):\n",
    "    X, y = make_regression(n_samples=n_samples, n_features=n_features, random_state=random_state)\n",
    "    df = pd.DataFrame(X)\n",
    "    df['y_true'] = y\n",
    "    return df"
   ]
  },
  {
   "cell_type": "markdown",
   "id": "4622c98e",
   "metadata": {},
   "source": [
    "## Boost function"
   ]
  },
  {
   "cell_type": "code",
   "execution_count": 4,
   "id": "1b6e72cc",
   "metadata": {},
   "outputs": [],
   "source": [
    "#list for saving trees\n",
    "trees = []\n",
    "\n",
    "def boost(df, n_steps=10, learning_rate=LEARNING_RATE, max_depth=1, plot=True):\n",
    "    \n",
    "    #collect rmse scores for plot\n",
    "    rmse_list = []\n",
    "    \n",
    "    #making dummy-prediction, each next tree will improve (boost) it\n",
    "    df['y_pred'] = df['y_true'].mean()\n",
    "    \n",
    "    for i in range(n_steps):\n",
    "        \n",
    "        #counting residual\n",
    "        df['residual'] = df['y_true'] - df['y_pred']\n",
    "        model = DecisionTreeRegressor(random_state=RANDOM_STATE, max_depth=max_depth)\n",
    "        model.fit(df.drop(['y_pred', 'y_true', 'residual'], axis=1), df['residual'])\n",
    "        df['y_pred'] += LEARNING_RATE*model.predict(df.drop(['y_pred', 'y_true', 'residual'], axis=1))\n",
    "        trees.append(model)\n",
    "        rmse = mean_squared_error(df['y_true'], df['y_pred'])\n",
    "        rmse_list.append(rmse)\n",
    "        print(f' RMSE on step {i}: {rmse}')\n",
    "        \n",
    "    if plot==True:\n",
    "        rmse_df = pd.DataFrame(data=rmse_list, columns=['RMSE'])\n",
    "        return rmse_df.plot(title='RMSE decreasing step by step',\n",
    "             style='o-',\n",
    "             grid=True,\n",
    "             figsize=(10,7));"
   ]
  },
  {
   "cell_type": "markdown",
   "id": "6fc4fde4",
   "metadata": {},
   "source": [
    "You can see there is no gradient counting in my gradient boost algorithm. But actually it is here in string:\n",
    "\n",
    "`df['residual'] = df['y_true'] - df['y_pred']`\n",
    "\n",
    "When we use loss function $L = 1/2 * (y_t - y_p)^2$ derivative of this function become $L' = y_t - y_p$\n",
    "\n",
    "$L$ - loss function\\\n",
    "$y_t$ - y_true\\\n",
    "$y_p$ - y_pred\n",
    "\n",
    "And this is actually what we have in this string:\n",
    "\n",
    "`df['residual'] = df['y_true'] - df['y_pred']`"
   ]
  },
  {
   "cell_type": "markdown",
   "id": "9e7ebf21",
   "metadata": {},
   "source": [
    "## Learning"
   ]
  },
  {
   "cell_type": "code",
   "execution_count": 5,
   "id": "6567457d",
   "metadata": {},
   "outputs": [],
   "source": [
    "df = make_df(n_samples=100, n_features=3, random_state=RANDOM_STATE)\n",
    "df_train, df_test = train_test_split(df, test_size=0.2, random_state=RANDOM_STATE)"
   ]
  },
  {
   "cell_type": "code",
   "execution_count": 6,
   "id": "4d6d0afe",
   "metadata": {},
   "outputs": [
    {
     "name": "stdout",
     "output_type": "stream",
     "text": [
      " RMSE on step 0: 1451.1564845648468\n",
      " RMSE on step 1: 1282.955223921043\n",
      " RMSE on step 2: 1139.4567521560616\n",
      " RMSE on step 3: 1018.9407613668229\n",
      " RMSE on step 4: 914.9320939914694\n",
      " RMSE on step 5: 824.7749388780361\n",
      " RMSE on step 6: 746.7024532368063\n",
      " RMSE on step 7: 679.3970487432911\n",
      " RMSE on step 8: 618.3590239758234\n",
      " RMSE on step 9: 567.5966614345213\n",
      " RMSE on step 10: 521.4248822316782\n",
      " RMSE on step 11: 482.78046703951634\n",
      " RMSE on step 12: 447.94175262046\n",
      " RMSE on step 13: 416.08224296205736\n",
      " RMSE on step 14: 388.9934445095401\n",
      " RMSE on step 15: 365.2356567860499\n",
      " RMSE on step 16: 342.22468000438283\n",
      " RMSE on step 17: 322.49890963789176\n",
      " RMSE on step 18: 304.68016301973546\n",
      " RMSE on step 19: 288.55483522591237\n",
      " RMSE on step 20: 274.4528166643134\n",
      " RMSE on step 21: 261.6348992400361\n",
      " RMSE on step 22: 249.72199322383366\n",
      " RMSE on step 23: 239.58209764204904\n",
      " RMSE on step 24: 229.86555869998793\n",
      " RMSE on step 25: 220.3824154286696\n",
      " RMSE on step 26: 212.13618446715364\n",
      " RMSE on step 27: 204.1283288005389\n",
      " RMSE on step 28: 196.5694563905794\n",
      " RMSE on step 29: 189.44484063558332\n"
     ]
    },
    {
     "data": {
      "text/plain": [
       "<AxesSubplot:title={'center':'RMSE decreasing step by step'}>"
      ]
     },
     "execution_count": 6,
     "metadata": {},
     "output_type": "execute_result"
    },
    {
     "data": {
      "image/png": "[encoded data removed]",
      "text/plain": [
       "<Figure size 720x504 with 1 Axes>"
      ]
     },
     "metadata": {
      "needs_background": "light"
     },
     "output_type": "display_data"
    }
   ],
   "source": [
    "#you can choose different parameters and watch the effect on the loss function or on the plot\n",
    "boost(df=df_train, n_steps=30, learning_rate=LEARNING_RATE, max_depth=1, plot=True)"
   ]
  },
  {
   "cell_type": "markdown",
   "id": "36c6892c",
   "metadata": {},
   "source": [
    "Each new step of algorithm increasing its quality"
   ]
  },
  {
   "cell_type": "markdown",
   "id": "0ab55bd6",
   "metadata": {},
   "source": [
    "## Testing"
   ]
  },
  {
   "cell_type": "code",
   "execution_count": 7,
   "id": "490a564a",
   "metadata": {},
   "outputs": [],
   "source": [
    "#testing function\n",
    "def testing(df=df_test, trees=trees):\n",
    "\n",
    "    rmse_test = []\n",
    "\n",
    "    df['y_pred'] = df['y_true'].mean()\n",
    "\n",
    "    for i in range(len(trees)):\n",
    "        df['y_pred'] += LEARNING_RATE * trees[i].predict(df.drop(['y_pred', 'y_true'], axis=1))\n",
    "        rmse = mean_squared_error(df['y_true'], df['y_pred'])\n",
    "        rmse_test.append(rmse)\n",
    "        print(f' RMSE on step {i}: {rmse}')\n",
    "    \n",
    "    rmse_df = pd.DataFrame(data=rmse_test, columns=['RMSE'])\n",
    "    return rmse_df.plot(title='RMSE decreasing step by step',\n",
    "             style='o-',\n",
    "             grid=True,\n",
    "             figsize=(10,7));"
   ]
  },
  {
   "cell_type": "code",
   "execution_count": 8,
   "id": "9d20b21d",
   "metadata": {},
   "outputs": [
    {
     "name": "stdout",
     "output_type": "stream",
     "text": [
      " RMSE on step 0: 2009.0676442924475\n",
      " RMSE on step 1: 1848.1335332310002\n",
      " RMSE on step 2: 1672.1802334882257\n",
      " RMSE on step 3: 1555.7768439589713\n",
      " RMSE on step 4: 1431.9233502900654\n",
      " RMSE on step 5: 1341.8716148202823\n",
      " RMSE on step 6: 1235.1811035304875\n",
      " RMSE on step 7: 1150.276379291365\n",
      " RMSE on step 8: 1086.4501927871133\n",
      " RMSE on step 9: 1026.641199013955\n",
      " RMSE on step 10: 977.0322290587276\n",
      " RMSE on step 11: 916.7976682413422\n",
      " RMSE on step 12: 874.8957019317784\n",
      " RMSE on step 13: 833.6917449926605\n",
      " RMSE on step 14: 805.6270193614997\n",
      " RMSE on step 15: 772.6588014153755\n",
      " RMSE on step 16: 735.0603169134774\n",
      " RMSE on step 17: 710.7376853229855\n",
      " RMSE on step 18: 680.3651434968777\n",
      " RMSE on step 19: 653.7676722324894\n",
      " RMSE on step 20: 631.7589109364977\n",
      " RMSE on step 21: 616.6923751395375\n",
      " RMSE on step 22: 596.8377349540949\n",
      " RMSE on step 23: 584.3971707143403\n",
      " RMSE on step 24: 583.6458002237082\n",
      " RMSE on step 25: 567.1125533794499\n",
      " RMSE on step 26: 545.5572859506136\n",
      " RMSE on step 27: 543.0980459235818\n",
      " RMSE on step 28: 526.7834959859409\n",
      " RMSE on step 29: 525.981157162348\n"
     ]
    },
    {
     "data": {
      "text/plain": [
       "<AxesSubplot:title={'center':'RMSE decreasing step by step'}>"
      ]
     },
     "execution_count": 8,
     "metadata": {},
     "output_type": "execute_result"
    },
    {
     "data": {
      "image/png": "[encoded data removed]",
      "text/plain": [
       "<Figure size 720x504 with 1 Axes>"
      ]
     },
     "metadata": {
      "needs_background": "light"
     },
     "output_type": "display_data"
    }
   ],
   "source": [
    "testing()"
   ]
  },
  {
   "cell_type": "code",
   "execution_count": null,
   "id": "429a892d",
   "metadata": {},
   "outputs": [],
   "source": []
  }
 ],
 "metadata": {
  "kernelspec": {
   "display_name": "Python 3 (ipykernel)",
   "language": "python",
   "name": "python3"
  },
  "language_info": {
   "codemirror_mode": {
    "name": "ipython",
    "version": 3
   },
   "file_extension": ".py",
   "mimetype": "text/x-python",
   "name": "python",
   "nbconvert_exporter": "python",
   "pygments_lexer": "ipython3",
   "version": "3.9.12"
  },
  "toc": {
   "base_numbering": 1,
   "nav_menu": {},
   "number_sections": true,
   "sideBar": true,
   "skip_h1_title": false,
   "title_cell": "Table of Contents",
   "title_sidebar": "Contents",
   "toc_cell": false,
   "toc_position": {},
   "toc_section_display": true,
   "toc_window_display": true
  }
 },
 "nbformat": 4,
 "nbformat_minor": 5
}
